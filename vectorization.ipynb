{
  "nbformat": 4,
  "nbformat_minor": 0,
  "metadata": {
    "colab": {
      "provenance": []
    },
    "kernelspec": {
      "name": "python3",
      "display_name": "Python 3"
    },
    "language_info": {
      "name": "python"
    }
  },
  "cells": [
    {
      "cell_type": "code",
      "execution_count": null,
      "metadata": {
        "id": "FcENacd9Zrmz",
        "colab": {
          "base_uri": "https://localhost:8080/"
        },
        "outputId": "cea0354b-e948-4090-d92b-4ccf051c5e31"
      },
      "outputs": [
        {
          "output_type": "stream",
          "name": "stdout",
          "text": [
            " vector addition : {a+b}\n",
            "[ 3  9 74]\n"
          ]
        }
      ],
      "source": [
        "import numpy as np\n",
        "import time\n",
        "\n",
        "#vector is a numpy  1-D array.\n",
        "\n",
        "#vector addition\n",
        "a=np.array([1,5,13])\n",
        "b=np.array([2,4,61])\n",
        "print(\" vector addition : {a+b}\")\n",
        "print(a+b)\n",
        "\n"
      ]
    },
    {
      "cell_type": "code",
      "source": [
        "#single vector operations\n",
        "print(\"mean\")\n",
        "print(np.mean(a))\n",
        "\n",
        "print(\"\\n -ve\")\n",
        "d=-a\n",
        "print(d)\n",
        "\n",
        "print(\"\\n sum of vector\")\n",
        "print(np.sum(a))\n",
        "\n",
        "print(\"\\n square of the vector \")\n",
        "e=a**2\n",
        "print(e)\n"
      ],
      "metadata": {
        "colab": {
          "base_uri": "https://localhost:8080/"
        },
        "id": "wPzXtKw65KUY",
        "outputId": "d223693e-187d-4885-9773-bbedd9e9dd4b"
      },
      "execution_count": null,
      "outputs": [
        {
          "output_type": "stream",
          "name": "stdout",
          "text": [
            "mean\n",
            "6.333333333333333\n",
            "\n",
            " -ve\n",
            "[ -1  -5 -13]\n",
            "\n",
            " sum of vector\n",
            "19\n",
            "\n",
            " square\n",
            "[  1  25 169]\n"
          ]
        }
      ]
    },
    {
      "cell_type": "code",
      "source": [
        "def dot(f,g):\n",
        "  x=0\n",
        "  for i in range(a.shape[0]): ## non-vector fn\n",
        "    x=x+a[i]*b[i]\n",
        "  return x\n",
        "\n",
        "  f=np.array([1,5,6])\n",
        "g=np.array([2,7,9])\n",
        "print(dot(f,g))"
      ],
      "metadata": {
        "colab": {
          "base_uri": "https://localhost:8080/"
        },
        "id": "9My5pGJg-R09",
        "outputId": "08a8060f-bd77-4ce9-8cb3-68d8348850b8"
      },
      "execution_count": null,
      "outputs": [
        {
          "output_type": "stream",
          "name": "stdout",
          "text": [
            "815\n"
          ]
        }
      ]
    },
    {
      "cell_type": "code",
      "source": [
        "k=np.array([3,67]) #vectorized form of dot product. it processes much faster than non-vectorized version\n",
        "l=np.array([2,6])\n",
        "t=np.dot(k,l)\n",
        "print(t)"
      ],
      "metadata": {
        "colab": {
          "base_uri": "https://localhost:8080/"
        },
        "id": "XxG3235KBsHn",
        "outputId": "30ec2f58-21f3-4b82-c0f8-77e160f8668a"
      },
      "execution_count": null,
      "outputs": [
        {
          "output_type": "stream",
          "name": "stdout",
          "text": [
            "408\n"
          ]
        }
      ]
    }
  ]
}